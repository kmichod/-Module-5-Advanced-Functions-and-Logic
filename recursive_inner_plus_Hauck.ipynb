{
 "cells": [
  {
   "cell_type": "code",
   "execution_count": 1,
   "id": "46be2ff1",
   "metadata": {},
   "outputs": [],
   "source": [
    "example_list1 = [1, 2, 3, 4, [5, 6, 7, [8, 9]]]\n",
    "example_list2 = [[1,2,3], [4,5,[6,7,[8]]], [9]]\n",
    "example_list3 = [1,2,3,4]\n",
    "example_list4 = [[1], [2], [3,4, [5,6]], 7, 8, 9, [10, 11, [[12], 13, 15]]]"
   ]
  },
  {
   "cell_type": "code",
   "execution_count": 2,
   "id": "a3680c1b",
   "metadata": {},
   "outputs": [],
   "source": [
    "def recursive_inner_plus(l):\n",
    "    '''\n",
    "    Given a list, recursive_inner_plus will return the deepest nested list with values incremented by 1\n",
    "    '''\n",
    "    def step(l, lvl=0):\n",
    "        '''\n",
    "        Helper recursive function for recursive_inner_plus. Given list, will return the deepest nested list, and it's depth\n",
    "        '''\n",
    "        deepest = [l, lvl] #initialize deepest with given\n",
    "        \n",
    "        for x in l: #iterate through list\n",
    "            if isinstance(x, list): #if item is list\n",
    "                tmp, tmp_lvl = step(x, lvl+1) #call step to find deepest nested list in item\n",
    "                if tmp_lvl > deepest[1]: #if lvl of new deep list is deeper than deepest, make new the deepest\n",
    "                    deepest = [tmp, tmp_lvl]\n",
    "\n",
    "        return deepest\n",
    "    \n",
    "    l, lvl = step(l)\n",
    "    \n",
    "    return [x + 1 for x in l] #increment values by one"
   ]
  },
  {
   "cell_type": "code",
   "execution_count": 3,
   "id": "72ad32bc",
   "metadata": {},
   "outputs": [
    {
     "name": "stdout",
     "output_type": "stream",
     "text": [
      "[9, 10]\n"
     ]
    }
   ],
   "source": [
    "print(recursive_inner_plus(example_list1))"
   ]
  },
  {
   "cell_type": "code",
   "execution_count": 4,
   "id": "f2d4018d",
   "metadata": {},
   "outputs": [
    {
     "name": "stdout",
     "output_type": "stream",
     "text": [
      "[9]\n"
     ]
    }
   ],
   "source": [
    "print(recursive_inner_plus(example_list2))"
   ]
  },
  {
   "cell_type": "code",
   "execution_count": 5,
   "id": "e9132fed",
   "metadata": {},
   "outputs": [
    {
     "name": "stdout",
     "output_type": "stream",
     "text": [
      "[2, 3, 4, 5]\n"
     ]
    }
   ],
   "source": [
    "print(recursive_inner_plus(example_list3))"
   ]
  },
  {
   "cell_type": "code",
   "execution_count": 6,
   "id": "9bc126d2",
   "metadata": {},
   "outputs": [
    {
     "name": "stdout",
     "output_type": "stream",
     "text": [
      "[13]\n"
     ]
    }
   ],
   "source": [
    "print(recursive_inner_plus(example_list4))"
   ]
  },
  {
   "cell_type": "code",
   "execution_count": null,
   "id": "9d2afaa8",
   "metadata": {},
   "outputs": [],
   "source": []
  }
 ],
 "metadata": {
  "kernelspec": {
   "display_name": "Python 3 (ipykernel)",
   "language": "python",
   "name": "python3"
  },
  "language_info": {
   "codemirror_mode": {
    "name": "ipython",
    "version": 3
   },
   "file_extension": ".py",
   "mimetype": "text/x-python",
   "name": "python",
   "nbconvert_exporter": "python",
   "pygments_lexer": "ipython3",
   "version": "3.9.12"
  }
 },
 "nbformat": 4,
 "nbformat_minor": 5
}
