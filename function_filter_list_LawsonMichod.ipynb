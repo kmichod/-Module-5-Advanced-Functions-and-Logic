{
 "cells": [
  {
   "cell_type": "code",
   "execution_count": null,
   "id": "878fc372",
   "metadata": {},
   "outputs": [],
   "source": [
    "#Write a python program that, given an input list, \n",
    "#will filter the input above a user defined threshold. \n",
    "#This is to be done with a standard function.\n",
    "#That is, given a list [1,2,3,4,5,6,7,8,9], and an argument (6), it should return [1,2,3,4,5,6]"
   ]
  },
  {
   "cell_type": "code",
   "execution_count": 1,
   "id": "405ee36b",
   "metadata": {},
   "outputs": [],
   "source": [
    "unfiltered_list = [1,2,3,4,5,6,7,8,9]"
   ]
  },
  {
   "cell_type": "code",
   "execution_count": 2,
   "id": "98c83676",
   "metadata": {},
   "outputs": [],
   "source": [
    "def below_6(argument):\n",
    "    if argument < 6:\n",
    "        return True\n",
    "    return False"
   ]
  },
  {
   "cell_type": "code",
   "execution_count": 3,
   "id": "03502cba",
   "metadata": {},
   "outputs": [],
   "source": [
    "below_6_iterator = filter(below_6, unfiltered_list)"
   ]
  },
  {
   "cell_type": "code",
   "execution_count": 4,
   "id": "89ab13fb",
   "metadata": {},
   "outputs": [
    {
     "name": "stdout",
     "output_type": "stream",
     "text": [
      "[1, 2, 3, 4, 5]\n"
     ]
    }
   ],
   "source": [
    "filtered_list = list(below_6_iterator)\n",
    "print(filtered_list)"
   ]
  },
  {
   "cell_type": "code",
   "execution_count": null,
   "id": "ccd8f719",
   "metadata": {},
   "outputs": [],
   "source": [
    "for index, item in enumerate(influenza_genome):\n",
    "    if argument < 6:\n",
    "        filter(influenza_genome)\n",
    "        print(index, item)"
   ]
  },
  {
   "cell_type": "code",
   "execution_count": null,
   "id": "e6246752",
   "metadata": {},
   "outputs": [],
   "source": []
  },
  {
   "cell_type": "code",
   "execution_count": null,
   "id": "0fff7e3b",
   "metadata": {},
   "outputs": [],
   "source": []
  },
  {
   "cell_type": "code",
   "execution_count": null,
   "id": "010a8905",
   "metadata": {},
   "outputs": [],
   "source": [
    "numbers = [1, 2, 3, 4, 5, 6, 7, 8, 9, 10]\n",
    "\n",
    "# returns True if number is even\n",
    "def check_even(number):\n",
    "    if number % 2 == 0:\n",
    "          return True  \n",
    "\n",
    "    return False\n",
    "\n",
    "# Extract elements from the numbers list for which check_even() returns True\n",
    "even_numbers_iterator = filter(check_even, numbers)\n",
    "\n",
    "# converting to list\n",
    "even_numbers = list(even_numbers_iterator)\n",
    "\n",
    "print(even_numbers)\n",
    "\n",
    "# Output: [2, 4, 6, 8, 10]\n"
   ]
  },
  {
   "cell_type": "code",
   "execution_count": null,
   "id": "fc308253",
   "metadata": {},
   "outputs": [],
   "source": [
    "def while_factorial(n):\n",
    "    multi_output = n\n",
    "    while n > 1:\n",
    "        n = n – 1\n",
    "        multi_output = multi_output * n\n",
    "        return multi_output"
   ]
  },
  {
   "cell_type": "code",
   "execution_count": null,
   "id": "1607c3b1",
   "metadata": {},
   "outputs": [],
   "source": [
    "def \n",
    "recursive_factorial(n):\n",
    "    if (n<=0):\n",
    "        return 1\n",
    "    else: \n",
    "        return\n",
    "    recursive_factorial(n-1)*n"
   ]
  }
 ],
 "metadata": {
  "kernelspec": {
   "display_name": "Python 3 (ipykernel)",
   "language": "python",
   "name": "python3"
  },
  "language_info": {
   "codemirror_mode": {
    "name": "ipython",
    "version": 3
   },
   "file_extension": ".py",
   "mimetype": "text/x-python",
   "name": "python",
   "nbconvert_exporter": "python",
   "pygments_lexer": "ipython3",
   "version": "3.9.12"
  }
 },
 "nbformat": 4,
 "nbformat_minor": 5
}
