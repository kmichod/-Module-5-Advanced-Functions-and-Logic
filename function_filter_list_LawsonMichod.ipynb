{
 "cells": [
  {
   "cell_type": "code",
   "execution_count": null,
   "id": "878fc372",
   "metadata": {},
   "outputs": [],
   "source": [
    "#Write a python program that, given an input list, \n",
    "#will filter the input above a user defined threshold. \n",
    "#This is to be done with a standard function.\n",
    "#That is, given a list [1,2,3,4,5,6,7,8,9], and an argument (6), it should return [1,2,3,4,5,6]"
   ]
  },
  {
   "cell_type": "code",
   "execution_count": 1,
   "id": "405ee36b",
   "metadata": {},
   "outputs": [],
   "source": [
    "unfiltered_list = [1,2,3,4,5,6,7,8,9]"
   ]
  },
  {
   "cell_type": "code",
   "execution_count": 2,
   "id": "98c83676",
   "metadata": {},
   "outputs": [],
   "source": [
    "def below_6(argument):\n",
    "    if argument < 6:\n",
    "        return True\n",
    "    return False"
   ]
  },
  {
   "cell_type": "code",
   "execution_count": 3,
   "id": "03502cba",
   "metadata": {},
   "outputs": [],
   "source": [
    "below_6_iterator = filter(below_6, unfiltered_list)"
   ]
  },
  {
   "cell_type": "code",
   "execution_count": 4,
   "id": "89ab13fb",
   "metadata": {},
   "outputs": [
    {
     "name": "stdout",
     "output_type": "stream",
     "text": [
      "[1, 2, 3, 4, 5]\n"
     ]
    }
   ],
   "source": [
    "filtered_list = list(below_6_iterator)\n",
    "print(filtered_list)"
   ]
  },
  {
   "cell_type": "code",
   "execution_count": null,
   "id": "eae1423a",
   "metadata": {},
   "outputs": [],
   "source": []
  }
 ],
 "metadata": {
  "kernelspec": {
   "display_name": "Python 3 (ipykernel)",
   "language": "python",
   "name": "python3"
  },
  "language_info": {
   "codemirror_mode": {
    "name": "ipython",
    "version": 3
   },
   "file_extension": ".py",
   "mimetype": "text/x-python",
   "name": "python",
   "nbconvert_exporter": "python",
   "pygments_lexer": "ipython3",
   "version": "3.9.12"
  }
 },
 "nbformat": 4,
 "nbformat_minor": 5
}
